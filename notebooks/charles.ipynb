{
 "cells": [
  {
   "cell_type": "code",
   "execution_count": 1,
   "metadata": {},
   "outputs": [],
   "source": [
    "from pyspark import SparkContext, SparkConf\n",
    "from pyspark.sql import SparkSession\n",
    "from pyspark.sql import Row\n",
    "from pyspark.sql.types import *\n",
    "from pyspark.sql import SQLContext"
   ]
  },
  {
   "cell_type": "code",
   "execution_count": 2,
   "metadata": {},
   "outputs": [],
   "source": [
    "ss = SparkSession.builder.getOrCreate()"
   ]
  },
  {
   "cell_type": "code",
   "execution_count": 3,
   "metadata": {},
   "outputs": [],
   "source": [
    "rate = ss.read.csv('../data/s3/insurance/Rate.csv', header=True)"
   ]
  },
  {
   "cell_type": "code",
   "execution_count": 4,
   "metadata": {},
   "outputs": [
    {
     "name": "stdout",
     "output_type": "stream",
     "text": [
      "+------------+---------+--------+----------+----------+-------------------+---------+----------+-----------------+------------------+--------------+-------------+-------------+-------------+--------------+---------------------+------+--------------------------------+---------------------------------+-----------------------------------------+---------------------+----------------------+------------------------------+---------+\n",
      "|BusinessYear|StateCode|IssuerId|SourceName|VersionNum|         ImportDate|IssuerId2|FederalTIN|RateEffectiveDate|RateExpirationDate|        PlanId| RatingAreaId|      Tobacco|          Age|IndividualRate|IndividualTobaccoRate|Couple|PrimarySubscriberAndOneDependent|PrimarySubscriberAndTwoDependents|PrimarySubscriberAndThreeOrMoreDependents|CoupleAndOneDependent|CoupleAndTwoDependents|CoupleAndThreeOrMoreDependents|RowNumber|\n",
      "+------------+---------+--------+----------+----------+-------------------+---------+----------+-----------------+------------------+--------------+-------------+-------------+-------------+--------------+---------------------+------+--------------------------------+---------------------------------+-----------------------------------------+---------------------+----------------------+------------------------------+---------+\n",
      "|        2014|       AK|   21989|      HIOS|         6|2014-03-19 07:06:49|    21989|93-0438772|       2014-01-01|        2014-12-31|21989AK0010001|Rating Area 1|No Preference|         0-20|          29.0|                 null|  null|                            null|                             null|                                     null|                 null|                  null|                          null|       14|\n",
      "|        2014|       AK|   21989|      HIOS|         6|2014-03-19 07:06:49|    21989|93-0438772|       2014-01-01|        2014-12-31|21989AK0020001|Rating Area 1|No Preference|Family Option|         36.95|                 null|  73.9|                          107.61|                           107.61|                                   107.61|               144.56|                144.56|                        144.56|       14|\n",
      "|        2014|       AK|   21989|      HIOS|         6|2014-03-19 07:06:49|    21989|93-0438772|       2014-01-01|        2014-12-31|21989AK0020001|Rating Area 2|No Preference|Family Option|         36.95|                 null|  73.9|                          107.61|                           107.61|                                   107.61|               144.56|                144.56|                        144.56|       15|\n",
      "|        2014|       AK|   21989|      HIOS|         6|2014-03-19 07:06:49|    21989|93-0438772|       2014-01-01|        2014-12-31|21989AK0010001|Rating Area 1|No Preference|           21|          32.0|                 null|  null|                            null|                             null|                                     null|                 null|                  null|                          null|       15|\n",
      "|        2014|       AK|   21989|      HIOS|         6|2014-03-19 07:06:49|    21989|93-0438772|       2014-01-01|        2014-12-31|21989AK0010001|Rating Area 1|No Preference|           22|          32.0|                 null|  null|                            null|                             null|                                     null|                 null|                  null|                          null|       16|\n",
      "+------------+---------+--------+----------+----------+-------------------+---------+----------+-----------------+------------------+--------------+-------------+-------------+-------------+--------------+---------------------+------+--------------------------------+---------------------------------+-----------------------------------------+---------------------+----------------------+------------------------------+---------+\n",
      "only showing top 5 rows\n",
      "\n"
     ]
    }
   ],
   "source": [
    "rate.show(5)"
   ]
  },
  {
   "cell_type": "code",
   "execution_count": 5,
   "metadata": {},
   "outputs": [],
   "source": [
    "ss.stop()"
   ]
  }
 ],
 "metadata": {
  "kernelspec": {
   "display_name": "Python 3",
   "language": "python",
   "name": "python3"
  },
  "language_info": {
   "codemirror_mode": {
    "name": "ipython",
    "version": 3
   },
   "file_extension": ".py",
   "mimetype": "text/x-python",
   "name": "python",
   "nbconvert_exporter": "python",
   "pygments_lexer": "ipython3",
   "version": "3.7.4"
  }
 },
 "nbformat": 4,
 "nbformat_minor": 4
}
