{
 "cells": [
  {
   "cell_type": "code",
   "execution_count": null,
   "metadata": {},
   "outputs": [],
   "source": [
    "from pyspark import SparkContext, SparkConf\n",
    "from pyspark.sql import SparkSession\n",
    "from pyspark.sql.types import *\n",
    "from pyspark.sql.functions import udf, avg"
   ]
  },
  {
   "cell_type": "code",
   "execution_count": null,
   "metadata": {},
   "outputs": [],
   "source": [
    "us = {'Alabama': 'AL', 'Alaska': 'AK', 'American Samoa': 'AS','Arizona': 'AZ', 'Arkansas': 'AR', 'California': 'CA', 'Colorado': 'CO', 'Connecticut': 'CT', 'Dakota': 'DK', 'Delaware': 'DE', 'District of Columbia': 'DC', 'Florida': 'FL', 'Georgia': 'GA', 'Guam': 'GU', 'Hawaii': 'HI', 'Idaho': 'ID', 'Illinois': 'IL', 'Indiana': 'IN', 'Iowa': 'IA', 'Kansas': 'KS', 'Kentucky': 'KY', 'Louisiana': 'LA', 'Maine': 'ME', 'Maryland': 'MD', 'Massachusetts': 'MA', 'Michigan': 'MI', 'Minnesota': 'MN', 'Mississippi': 'MS', 'Missouri': 'MO', 'Montana': 'MT', 'Nebraska': 'NE', 'Nevada': 'NV', 'New Hampshire': 'NH', 'New Jersey': 'NJ', 'New Mexico': 'NM', 'New York': 'NY', 'North Carolina': 'NC', 'North Dakota': 'ND', 'Northern Mariana Islands': 'MP', 'Ohio': 'OH', 'Oklahoma': 'OK', 'Oregon': 'OR', 'Orleans': 'OL', 'Pennsylvania': 'PA', 'Philippine Islands': 'PI', 'Puerto Rico': 'PR', 'Rhode Island': 'RI', 'South Carolina': 'SC', 'South Dakota': 'SD', 'Tennessee': 'TN', 'Texas': 'TX', 'Utah': 'UT', 'Vermont': 'VT', 'Virgin Islands': 'VI', 'Virginia': 'VA', 'Washington': 'WA', 'West Virginia': 'WV', 'Wisconsin': 'WI', 'Wyoming': 'WY'}\n",
    "def state(mapping):\n",
    "    def state_(col):\n",
    "        return mapping.get(col)\n",
    "    return udf(state_, StringType())"
   ]
  },
  {
   "cell_type": "code",
   "execution_count": null,
   "metadata": {},
   "outputs": [],
   "source": [
    "ss = SparkSession.builder.config('spark.driver.memory', '8g').getOrCreate()"
   ]
  },
  {
   "cell_type": "code",
   "execution_count": null,
   "metadata": {},
   "outputs": [],
   "source": [
    "test_mode = True\n",
    "\n",
    "s3 = {'rate': 's3a://msds-durian-candy/insurance/Rate.csv.gz',\n",
    "      'plan': 's3a://msds-durian-candy/insurance/PlanAttributes.csv.gz',\n",
    "      'service_area': 's3a://msds-durian-candy/insurance/ServiceArea.csv.gz',\n",
    "      'census': 's3a://msds-durian-candy/census/acs2015_county_data.csv.gz',}\n",
    "\n",
    "local = {'rate': '../data/s3/insurance/Rate.csv',\n",
    "         'plan': '../data/s3/insurance/PlanAttributes.csv',\n",
    "         'service_area': '../data/s3/insurance/ServiceArea.csv',\n",
    "         'census': '../data/s3/census/acs2015_county_data.csv'}\n",
    "\n",
    "\n",
    "source = local if test_mode else s3\n",
    "\n",
    "rate = ss.read.csv(source['rate'], header=True) \\\n",
    "              .filter('IndividualRate > 1 and IndividualRate < 9999') \\\n",
    "              .drop('RowNumber') \\\n",
    "              .cache()\n",
    "plan = ss.read.csv(source['plan'], header=True) \\\n",
    "              .select('StandardComponentId', 'PlanType', 'BusinessYear', 'StateCode', 'ServiceAreaId', 'IssuerId',\n",
    "                      'BeginPrimaryCareCostSharingAfterNumberOfVisits', 'BeginPrimaryCareDeductibleCoinsuranceAfterNumberOfCopays',\n",
    "                      'CSRVariationType', 'ChildOnlyOffering', 'OutOfServiceAreaCoverage') \\\n",
    "              .withColumnRenamed('StandardComponentId', 'PlanId') \\\n",
    "              .distinct() \\\n",
    "              .cache()\n",
    "service_area = ss.read.csv(source['service_area'], header=True) \\\n",
    "                      .select('BusinessYear','StateCode', 'IssuerId', 'ServiceAreaId', 'CoverEntireState') \\\n",
    "                      .distinct() \\\n",
    "                      .cache()\n",
    "\n",
    "census = ss.read.csv(source['census'], header=True) \\\n",
    "                .withColumn('StateCode', state(us)('State')) \\\n",
    "                .drop('CensusId', 'State', 'County')\n",
    "census = census.groupBy('StateCode') \\\n",
    "               .agg(*[avg(x).alias(x) for x in census.drop('StateCode').schema.names]) \\\n",
    "               .cache()"
   ]
  },
  {
   "cell_type": "code",
   "execution_count": null,
   "metadata": {},
   "outputs": [],
   "source": [
    "plan_service_area = plan.join(service_area, ['BusinessYear', 'StateCode', 'ServiceAreaId', 'IssuerId'], 'inner').cache()\n",
    "insurance = rate.join(plan_service_area, ['PlanId', 'BusinessYear', 'StateCode'], 'left_outer').cache()\n",
    "df = insurance.join(census, 'StateCode', 'left_outer').cache()"
   ]
  },
  {
   "cell_type": "code",
   "execution_count": null,
   "metadata": {},
   "outputs": [],
   "source": [
    "df.show(5, vertical=True)"
   ]
  },
  {
   "cell_type": "code",
   "execution_count": null,
   "metadata": {},
   "outputs": [],
   "source": [
    "ss.stop()"
   ]
  }
 ],
 "metadata": {
  "kernelspec": {
   "display_name": "Python 3",
   "language": "python",
   "name": "python3"
  },
  "language_info": {
   "codemirror_mode": {
    "name": "ipython",
    "version": 3
   },
   "file_extension": ".py",
   "mimetype": "text/x-python",
   "name": "python",
   "nbconvert_exporter": "python",
   "pygments_lexer": "ipython3",
   "version": "3.7.4"
  }
 },
 "nbformat": 4,
 "nbformat_minor": 4
}
